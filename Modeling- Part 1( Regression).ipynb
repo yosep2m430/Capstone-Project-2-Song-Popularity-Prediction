{
 "cells": [
  {
   "cell_type": "markdown",
   "id": "cf832729",
   "metadata": {},
   "source": [
    "# Modeling- Part 1( Regression)"
   ]
  },
  {
   "cell_type": "code",
   "execution_count": 1,
   "id": "6ace4aeb",
   "metadata": {},
   "outputs": [],
   "source": [
    "import os\n",
    "\n",
    "import pandas as pd\n",
    "import numpy as np\n",
    "\n",
    "import pickle\n",
    "import matplotlib.pyplot as plt\n",
    "import seaborn as sns\n",
    "\n",
    "from sklearn.preprocessing import scale\n",
    "from sklearn.model_selection import train_test_split, cross_validate, GridSearchCV, learning_curve, cross_val_score, RandomizedSearchCV, validation_curve\n",
    "from sklearn.preprocessing import StandardScaler, MinMaxScaler\n",
    "\n",
    "from sklearn.dummy import DummyRegressor\n",
    "from sklearn.linear_model import LinearRegression\n",
    "from sklearn.ensemble import RandomForestRegressor, GradientBoostingRegressor, RandomForestClassifier\n",
    "from sklearn.neighbors import KNeighborsClassifier\n",
    "\n",
    "from sklearn.metrics import r2_score, mean_squared_error, mean_absolute_error, accuracy_score, classification_report\n",
    "from sklearn.pipeline import make_pipeline\n",
    "from sklearn.impute import SimpleImputer\n",
    "from bayes_opt import BayesianOptimization\n",
    "import lightgbm as lgb\n",
    "\n",
    "from sklearn.feature_selection import mutual_info_regression, SelectKBest, f_regression\n",
    "from sklearn.utils import resample, shuffle\n",
    "import xgboost as xgb\n",
    "from sklearn.preprocessing import LabelEncoder\n",
    "\n",
    "\n",
    "from sklearn.metrics import confusion_matrix\n",
    "random_state=42"
   ]
  },
  {
   "cell_type": "code",
   "execution_count": 2,
   "id": "57bac9e5",
   "metadata": {},
   "outputs": [],
   "source": [
    "# To suppress future warnings\n",
    "import warnings\n",
    "warnings.simplefilter(action='ignore', category=FutureWarning)\n",
    "warnings.simplefilter(action='ignore', category=UserWarning)"
   ]
  },
  {
   "cell_type": "code",
   "execution_count": 3,
   "id": "3268495e",
   "metadata": {},
   "outputs": [],
   "source": [
    "df= pd.read_csv('/Users/josephlim/Desktop/Data Science/Capstone Projects/Capstone project- Spotify/spotify_data_preprocessed_exp.csv')"
   ]
  },
  {
   "cell_type": "code",
   "execution_count": 4,
   "id": "d24b2307",
   "metadata": {},
   "outputs": [
    {
     "data": {
      "text/plain": [
       "(587927, 12)"
      ]
     },
     "execution_count": 4,
     "metadata": {},
     "output_type": "execute_result"
    }
   ],
   "source": [
    "df.shape"
   ]
  },
  {
   "cell_type": "code",
   "execution_count": 5,
   "id": "b73c1d49",
   "metadata": {},
   "outputs": [
    {
     "data": {
      "text/html": [
       "<div>\n",
       "<style scoped>\n",
       "    .dataframe tbody tr th:only-of-type {\n",
       "        vertical-align: middle;\n",
       "    }\n",
       "\n",
       "    .dataframe tbody tr th {\n",
       "        vertical-align: top;\n",
       "    }\n",
       "\n",
       "    .dataframe thead th {\n",
       "        text-align: right;\n",
       "    }\n",
       "</style>\n",
       "<table border=\"1\" class=\"dataframe\">\n",
       "  <thead>\n",
       "    <tr style=\"text-align: right;\">\n",
       "      <th></th>\n",
       "      <th>popularity</th>\n",
       "      <th>duration_ms</th>\n",
       "      <th>danceability</th>\n",
       "      <th>energy</th>\n",
       "      <th>loudness</th>\n",
       "      <th>speechiness</th>\n",
       "      <th>acousticness</th>\n",
       "      <th>instrumentalness</th>\n",
       "      <th>liveness</th>\n",
       "      <th>valence</th>\n",
       "      <th>tempo</th>\n",
       "      <th>time_signature</th>\n",
       "    </tr>\n",
       "  </thead>\n",
       "  <tbody>\n",
       "    <tr>\n",
       "      <th>0</th>\n",
       "      <td>0.06</td>\n",
       "      <td>126903</td>\n",
       "      <td>0.645</td>\n",
       "      <td>0.4450</td>\n",
       "      <td>-13.338</td>\n",
       "      <td>0.4510</td>\n",
       "      <td>0.674</td>\n",
       "      <td>0.7440</td>\n",
       "      <td>0.151</td>\n",
       "      <td>0.127</td>\n",
       "      <td>104.851</td>\n",
       "      <td>3</td>\n",
       "    </tr>\n",
       "    <tr>\n",
       "      <th>1</th>\n",
       "      <td>0.00</td>\n",
       "      <td>98200</td>\n",
       "      <td>0.695</td>\n",
       "      <td>0.2630</td>\n",
       "      <td>-22.136</td>\n",
       "      <td>0.9570</td>\n",
       "      <td>0.797</td>\n",
       "      <td>0.0000</td>\n",
       "      <td>0.148</td>\n",
       "      <td>0.655</td>\n",
       "      <td>102.009</td>\n",
       "      <td>1</td>\n",
       "    </tr>\n",
       "    <tr>\n",
       "      <th>2</th>\n",
       "      <td>0.00</td>\n",
       "      <td>181640</td>\n",
       "      <td>0.434</td>\n",
       "      <td>0.1770</td>\n",
       "      <td>-21.180</td>\n",
       "      <td>0.0512</td>\n",
       "      <td>0.994</td>\n",
       "      <td>0.0218</td>\n",
       "      <td>0.212</td>\n",
       "      <td>0.457</td>\n",
       "      <td>130.418</td>\n",
       "      <td>5</td>\n",
       "    </tr>\n",
       "    <tr>\n",
       "      <th>3</th>\n",
       "      <td>0.00</td>\n",
       "      <td>176907</td>\n",
       "      <td>0.321</td>\n",
       "      <td>0.0946</td>\n",
       "      <td>-27.961</td>\n",
       "      <td>0.0504</td>\n",
       "      <td>0.995</td>\n",
       "      <td>0.9180</td>\n",
       "      <td>0.104</td>\n",
       "      <td>0.397</td>\n",
       "      <td>169.980</td>\n",
       "      <td>3</td>\n",
       "    </tr>\n",
       "    <tr>\n",
       "      <th>4</th>\n",
       "      <td>0.00</td>\n",
       "      <td>163080</td>\n",
       "      <td>0.402</td>\n",
       "      <td>0.1580</td>\n",
       "      <td>-16.900</td>\n",
       "      <td>0.0390</td>\n",
       "      <td>0.989</td>\n",
       "      <td>0.1300</td>\n",
       "      <td>0.311</td>\n",
       "      <td>0.196</td>\n",
       "      <td>103.220</td>\n",
       "      <td>4</td>\n",
       "    </tr>\n",
       "  </tbody>\n",
       "</table>\n",
       "</div>"
      ],
      "text/plain": [
       "   popularity  duration_ms  danceability  energy  loudness  speechiness  \\\n",
       "0        0.06       126903         0.645  0.4450   -13.338       0.4510   \n",
       "1        0.00        98200         0.695  0.2630   -22.136       0.9570   \n",
       "2        0.00       181640         0.434  0.1770   -21.180       0.0512   \n",
       "3        0.00       176907         0.321  0.0946   -27.961       0.0504   \n",
       "4        0.00       163080         0.402  0.1580   -16.900       0.0390   \n",
       "\n",
       "   acousticness  instrumentalness  liveness  valence    tempo  time_signature  \n",
       "0         0.674            0.7440     0.151    0.127  104.851               3  \n",
       "1         0.797            0.0000     0.148    0.655  102.009               1  \n",
       "2         0.994            0.0218     0.212    0.457  130.418               5  \n",
       "3         0.995            0.9180     0.104    0.397  169.980               3  \n",
       "4         0.989            0.1300     0.311    0.196  103.220               4  "
      ]
     },
     "execution_count": 5,
     "metadata": {},
     "output_type": "execute_result"
    }
   ],
   "source": [
    "df.head()"
   ]
  },
  {
   "cell_type": "code",
   "execution_count": 6,
   "id": "333a0bd8",
   "metadata": {
    "scrolled": true
   },
   "outputs": [
    {
     "name": "stdout",
     "output_type": "stream",
     "text": [
      "<class 'pandas.core.frame.DataFrame'>\n",
      "RangeIndex: 587927 entries, 0 to 587926\n",
      "Data columns (total 12 columns):\n",
      " #   Column            Non-Null Count   Dtype  \n",
      "---  ------            --------------   -----  \n",
      " 0   popularity        587927 non-null  float64\n",
      " 1   duration_ms       587927 non-null  int64  \n",
      " 2   danceability      587927 non-null  float64\n",
      " 3   energy            587927 non-null  float64\n",
      " 4   loudness          587927 non-null  float64\n",
      " 5   speechiness       587927 non-null  float64\n",
      " 6   acousticness      587927 non-null  float64\n",
      " 7   instrumentalness  587927 non-null  float64\n",
      " 8   liveness          587927 non-null  float64\n",
      " 9   valence           587927 non-null  float64\n",
      " 10  tempo             587927 non-null  float64\n",
      " 11  time_signature    587927 non-null  int64  \n",
      "dtypes: float64(10), int64(2)\n",
      "memory usage: 53.8 MB\n"
     ]
    }
   ],
   "source": [
    "df.info()"
   ]
  },
  {
   "cell_type": "code",
   "execution_count": 7,
   "id": "56de8bee",
   "metadata": {},
   "outputs": [],
   "source": [
    "X= df.drop('popularity', axis=1)\n",
    "y= df['popularity']"
   ]
  },
  {
   "cell_type": "markdown",
   "id": "f8744e60",
   "metadata": {},
   "source": [
    "Let's split the data into training and testing sets."
   ]
  },
  {
   "cell_type": "code",
   "execution_count": 8,
   "id": "49b547df",
   "metadata": {},
   "outputs": [],
   "source": [
    "X_train, X_test, y_train, y_test= train_test_split(X, y,test_size=0.3, random_state=42)"
   ]
  },
  {
   "cell_type": "code",
   "execution_count": 9,
   "id": "3c7f8d20",
   "metadata": {
    "scrolled": true
   },
   "outputs": [
    {
     "data": {
      "text/html": [
       "<div>\n",
       "<style scoped>\n",
       "    .dataframe tbody tr th:only-of-type {\n",
       "        vertical-align: middle;\n",
       "    }\n",
       "\n",
       "    .dataframe tbody tr th {\n",
       "        vertical-align: top;\n",
       "    }\n",
       "\n",
       "    .dataframe thead th {\n",
       "        text-align: right;\n",
       "    }\n",
       "</style>\n",
       "<table border=\"1\" class=\"dataframe\">\n",
       "  <thead>\n",
       "    <tr style=\"text-align: right;\">\n",
       "      <th></th>\n",
       "      <th>popularity</th>\n",
       "      <th>duration_ms</th>\n",
       "      <th>danceability</th>\n",
       "      <th>energy</th>\n",
       "      <th>loudness</th>\n",
       "      <th>speechiness</th>\n",
       "      <th>acousticness</th>\n",
       "      <th>instrumentalness</th>\n",
       "      <th>liveness</th>\n",
       "      <th>valence</th>\n",
       "      <th>tempo</th>\n",
       "      <th>time_signature</th>\n",
       "    </tr>\n",
       "  </thead>\n",
       "  <tbody>\n",
       "    <tr>\n",
       "      <th>count</th>\n",
       "      <td>587927.000000</td>\n",
       "      <td>5.879270e+05</td>\n",
       "      <td>587927.000000</td>\n",
       "      <td>587927.000000</td>\n",
       "      <td>587927.000000</td>\n",
       "      <td>587927.000000</td>\n",
       "      <td>587927.000000</td>\n",
       "      <td>587927.000000</td>\n",
       "      <td>587927.000000</td>\n",
       "      <td>587927.000000</td>\n",
       "      <td>587927.000000</td>\n",
       "      <td>587927.000000</td>\n",
       "    </tr>\n",
       "    <tr>\n",
       "      <th>mean</th>\n",
       "      <td>0.276178</td>\n",
       "      <td>2.299861e+05</td>\n",
       "      <td>0.563848</td>\n",
       "      <td>0.542221</td>\n",
       "      <td>-10.197492</td>\n",
       "      <td>0.104846</td>\n",
       "      <td>0.449439</td>\n",
       "      <td>0.113214</td>\n",
       "      <td>0.213868</td>\n",
       "      <td>0.552229</td>\n",
       "      <td>118.480329</td>\n",
       "      <td>3.873574</td>\n",
       "    </tr>\n",
       "    <tr>\n",
       "      <th>std</th>\n",
       "      <td>0.184284</td>\n",
       "      <td>1.264124e+05</td>\n",
       "      <td>0.166122</td>\n",
       "      <td>0.251788</td>\n",
       "      <td>5.088164</td>\n",
       "      <td>0.179736</td>\n",
       "      <td>0.348759</td>\n",
       "      <td>0.266634</td>\n",
       "      <td>0.184250</td>\n",
       "      <td>0.257638</td>\n",
       "      <td>29.768571</td>\n",
       "      <td>0.472759</td>\n",
       "    </tr>\n",
       "    <tr>\n",
       "      <th>min</th>\n",
       "      <td>0.000000</td>\n",
       "      <td>3.344000e+03</td>\n",
       "      <td>0.000000</td>\n",
       "      <td>0.000000</td>\n",
       "      <td>-60.000000</td>\n",
       "      <td>0.000000</td>\n",
       "      <td>0.000000</td>\n",
       "      <td>0.000000</td>\n",
       "      <td>0.000000</td>\n",
       "      <td>0.000000</td>\n",
       "      <td>0.000000</td>\n",
       "      <td>0.000000</td>\n",
       "    </tr>\n",
       "    <tr>\n",
       "      <th>25%</th>\n",
       "      <td>0.130000</td>\n",
       "      <td>1.750670e+05</td>\n",
       "      <td>0.453000</td>\n",
       "      <td>0.344000</td>\n",
       "      <td>-12.881000</td>\n",
       "      <td>0.034000</td>\n",
       "      <td>0.096700</td>\n",
       "      <td>0.000000</td>\n",
       "      <td>0.098200</td>\n",
       "      <td>0.346000</td>\n",
       "      <td>95.610000</td>\n",
       "      <td>4.000000</td>\n",
       "    </tr>\n",
       "    <tr>\n",
       "      <th>50%</th>\n",
       "      <td>0.270000</td>\n",
       "      <td>2.148310e+05</td>\n",
       "      <td>0.578000</td>\n",
       "      <td>0.549000</td>\n",
       "      <td>-9.232000</td>\n",
       "      <td>0.044300</td>\n",
       "      <td>0.421000</td>\n",
       "      <td>0.000024</td>\n",
       "      <td>0.139000</td>\n",
       "      <td>0.564000</td>\n",
       "      <td>117.398000</td>\n",
       "      <td>4.000000</td>\n",
       "    </tr>\n",
       "    <tr>\n",
       "      <th>75%</th>\n",
       "      <td>0.410000</td>\n",
       "      <td>2.637600e+05</td>\n",
       "      <td>0.686000</td>\n",
       "      <td>0.748000</td>\n",
       "      <td>-6.475000</td>\n",
       "      <td>0.076500</td>\n",
       "      <td>0.784000</td>\n",
       "      <td>0.009430</td>\n",
       "      <td>0.278000</td>\n",
       "      <td>0.769000</td>\n",
       "      <td>136.351000</td>\n",
       "      <td>4.000000</td>\n",
       "    </tr>\n",
       "    <tr>\n",
       "      <th>max</th>\n",
       "      <td>1.000000</td>\n",
       "      <td>5.621218e+06</td>\n",
       "      <td>0.991000</td>\n",
       "      <td>1.000000</td>\n",
       "      <td>5.376000</td>\n",
       "      <td>0.971000</td>\n",
       "      <td>0.996000</td>\n",
       "      <td>1.000000</td>\n",
       "      <td>1.000000</td>\n",
       "      <td>1.000000</td>\n",
       "      <td>246.381000</td>\n",
       "      <td>5.000000</td>\n",
       "    </tr>\n",
       "  </tbody>\n",
       "</table>\n",
       "</div>"
      ],
      "text/plain": [
       "          popularity   duration_ms   danceability         energy  \\\n",
       "count  587927.000000  5.879270e+05  587927.000000  587927.000000   \n",
       "mean        0.276178  2.299861e+05       0.563848       0.542221   \n",
       "std         0.184284  1.264124e+05       0.166122       0.251788   \n",
       "min         0.000000  3.344000e+03       0.000000       0.000000   \n",
       "25%         0.130000  1.750670e+05       0.453000       0.344000   \n",
       "50%         0.270000  2.148310e+05       0.578000       0.549000   \n",
       "75%         0.410000  2.637600e+05       0.686000       0.748000   \n",
       "max         1.000000  5.621218e+06       0.991000       1.000000   \n",
       "\n",
       "            loudness    speechiness   acousticness  instrumentalness  \\\n",
       "count  587927.000000  587927.000000  587927.000000     587927.000000   \n",
       "mean      -10.197492       0.104846       0.449439          0.113214   \n",
       "std         5.088164       0.179736       0.348759          0.266634   \n",
       "min       -60.000000       0.000000       0.000000          0.000000   \n",
       "25%       -12.881000       0.034000       0.096700          0.000000   \n",
       "50%        -9.232000       0.044300       0.421000          0.000024   \n",
       "75%        -6.475000       0.076500       0.784000          0.009430   \n",
       "max         5.376000       0.971000       0.996000          1.000000   \n",
       "\n",
       "            liveness        valence          tempo  time_signature  \n",
       "count  587927.000000  587927.000000  587927.000000   587927.000000  \n",
       "mean        0.213868       0.552229     118.480329        3.873574  \n",
       "std         0.184250       0.257638      29.768571        0.472759  \n",
       "min         0.000000       0.000000       0.000000        0.000000  \n",
       "25%         0.098200       0.346000      95.610000        4.000000  \n",
       "50%         0.139000       0.564000     117.398000        4.000000  \n",
       "75%         0.278000       0.769000     136.351000        4.000000  \n",
       "max         1.000000       1.000000     246.381000        5.000000  "
      ]
     },
     "execution_count": 9,
     "metadata": {},
     "output_type": "execute_result"
    }
   ],
   "source": [
    "df.describe()"
   ]
  },
  {
   "cell_type": "markdown",
   "id": "53156644",
   "metadata": {},
   "source": [
    "### Dummy Regressor"
   ]
  },
  {
   "cell_type": "markdown",
   "id": "18145144",
   "metadata": {},
   "source": [
    "Let's explore different models we can predict popularity by. A good starting point would be to see how good the mean would be as a predictor. DummyRegressor can do just that."
   ]
  },
  {
   "cell_type": "code",
   "execution_count": 10,
   "id": "e1ba1510",
   "metadata": {},
   "outputs": [
    {
     "data": {
      "text/plain": [
       "0.27611495516858575"
      ]
     },
     "execution_count": 10,
     "metadata": {},
     "output_type": "execute_result"
    }
   ],
   "source": [
    "train_mean= y_train.mean()\n",
    "train_mean"
   ]
  },
  {
   "cell_type": "code",
   "execution_count": 11,
   "id": "0fbe60a0",
   "metadata": {
    "scrolled": true
   },
   "outputs": [
    {
     "data": {
      "text/plain": [
       "-1.3244392618183554e-06"
      ]
     },
     "execution_count": 11,
     "metadata": {},
     "output_type": "execute_result"
    }
   ],
   "source": [
    "dumb_reg= DummyRegressor(strategy='mean')\n",
    "\n",
    "dumb_reg.fit(X_train, y_train)\n",
    "dumb_reg.score(X_test, y_test)"
   ]
  },
  {
   "cell_type": "markdown",
   "id": "d1b8247d",
   "metadata": {},
   "source": [
    "It comes pretty close for now, but how good is this? We'll see how closely this explains the actual values. There are many metrics we can use to do this. We will try different metrics to choose which one works best for our specific scenario."
   ]
  },
  {
   "cell_type": "markdown",
   "id": "48199636",
   "metadata": {},
   "source": [
    "## Metrics\n",
    "\n",
    "**1. Coefficient of determination ($R^{2}$):**\n",
    "<br> We will make predictions by creating length of size of training set with the single value of the mean."
   ]
  },
  {
   "cell_type": "code",
   "execution_count": 12,
   "id": "e6827d38",
   "metadata": {},
   "outputs": [
    {
     "data": {
      "text/plain": [
       "array([0.27611496, 0.27611496, 0.27611496, 0.27611496, 0.27611496])"
      ]
     },
     "execution_count": 12,
     "metadata": {},
     "output_type": "execute_result"
    }
   ],
   "source": [
    "y_tr_pred_ = train_mean* np.ones(len(y_train))\n",
    "y_tr_pred_[:5]"
   ]
  },
  {
   "cell_type": "code",
   "execution_count": 13,
   "id": "b7acd28f",
   "metadata": {},
   "outputs": [
    {
     "data": {
      "text/plain": [
       "array([0.27611496, 0.27611496, 0.27611496, 0.27611496, 0.27611496])"
      ]
     },
     "execution_count": 13,
     "metadata": {},
     "output_type": "execute_result"
    }
   ],
   "source": [
    "y_tr_pred= dumb_reg.predict(X_train)\n",
    "y_tr_pred[:5]"
   ]
  },
  {
   "cell_type": "markdown",
   "id": "f1e97145",
   "metadata": {},
   "source": [
    "They produce exactly same results. Let's find out ($R^{2}$) score."
   ]
  },
  {
   "cell_type": "code",
   "execution_count": 14,
   "id": "36afd2f3",
   "metadata": {
    "scrolled": true
   },
   "outputs": [
    {
     "data": {
      "text/plain": [
       "0.0"
      ]
     },
     "execution_count": 14,
     "metadata": {},
     "output_type": "execute_result"
    }
   ],
   "source": [
    "r2_score(y_train, y_tr_pred)"
   ]
  },
  {
   "cell_type": "markdown",
   "id": "ec9a3d5e",
   "metadata": {},
   "source": [
    "We got $R^{2}$ score of 0 on our training set when we used mean as a predictor. $R^{2}$ explains predictions in terms of the amount of variance. Low $R^{2}$ score suggests small amount of variances explainedn. Let's try this on our test set. "
   ]
  },
  {
   "cell_type": "code",
   "execution_count": 15,
   "id": "6dd38988",
   "metadata": {},
   "outputs": [
    {
     "data": {
      "text/plain": [
       "-1.3244392618183554e-06"
      ]
     },
     "execution_count": 15,
     "metadata": {},
     "output_type": "execute_result"
    }
   ],
   "source": [
    "y_te_pred= train_mean*np.ones(len(y_test))\n",
    "r2_score(y_test, y_te_pred)"
   ]
  },
  {
   "cell_type": "markdown",
   "id": "0c771dfb",
   "metadata": {},
   "source": [
    "This negative number was expected, because most models perform worse on test sets than on training sets."
   ]
  },
  {
   "cell_type": "markdown",
   "id": "f82f78f5",
   "metadata": {},
   "source": [
    "**2.Mean Absolute Error (MAE)**\n",
    "<br>\n",
    "MAE tells us how much we expect to be off by if we guessed based on the average of known values."
   ]
  },
  {
   "cell_type": "code",
   "execution_count": 16,
   "id": "112a9959",
   "metadata": {},
   "outputs": [
    {
     "data": {
      "text/plain": [
       "(0.15318341959027598, 0.15257615987954135)"
      ]
     },
     "execution_count": 16,
     "metadata": {},
     "output_type": "execute_result"
    }
   ],
   "source": [
    "mean_absolute_error(y_train, y_tr_pred), mean_absolute_error(y_test, y_te_pred)"
   ]
  },
  {
   "cell_type": "markdown",
   "id": "9104ce9c",
   "metadata": {},
   "source": [
    "MAE on testing set is very slightly worse than on training data, but they are very similar."
   ]
  },
  {
   "cell_type": "markdown",
   "id": "fd85646f",
   "metadata": {},
   "source": [
    "**3.Mean Squared Error (MSE)**\n",
    "<br>Mean squared error is the average of square of errors."
   ]
  },
  {
   "cell_type": "code",
   "execution_count": 17,
   "id": "b989737b",
   "metadata": {},
   "outputs": [
    {
     "data": {
      "text/plain": [
       "(0.03401041691637179, 0.033844447707936466)"
      ]
     },
     "execution_count": 17,
     "metadata": {},
     "output_type": "execute_result"
    }
   ],
   "source": [
    "mean_squared_error(y_train, y_tr_pred), mean_squared_error(y_test, y_te_pred)"
   ]
  },
  {
   "cell_type": "markdown",
   "id": "e48cec88",
   "metadata": {},
   "source": [
    "While it was pretty obvious from $R^{2}$ score that a simple average would not be the best model, it was worth double (or triple) checking it using different metrics. "
   ]
  },
  {
   "cell_type": "markdown",
   "id": "c1f734c8",
   "metadata": {},
   "source": [
    "## Initial Models:"
   ]
  },
  {
   "cell_type": "markdown",
   "id": "564edfe7",
   "metadata": {},
   "source": [
    "Let's build pipelines to simplify processes. "
   ]
  },
  {
   "cell_type": "code",
   "execution_count": 18,
   "id": "3c7d2913",
   "metadata": {},
   "outputs": [],
   "source": [
    "pipe = make_pipeline(\n",
    "    StandardScaler(),\n",
    "    LinearRegression()\n",
    ")"
   ]
  },
  {
   "cell_type": "code",
   "execution_count": 19,
   "id": "174f8607",
   "metadata": {},
   "outputs": [
    {
     "data": {
      "text/plain": [
       "sklearn.pipeline.Pipeline"
      ]
     },
     "execution_count": 19,
     "metadata": {},
     "output_type": "execute_result"
    }
   ],
   "source": [
    "type(pipe)"
   ]
  },
  {
   "cell_type": "code",
   "execution_count": 20,
   "id": "53af0707",
   "metadata": {},
   "outputs": [
    {
     "data": {
      "text/plain": [
       "(True, True)"
      ]
     },
     "execution_count": 20,
     "metadata": {},
     "output_type": "execute_result"
    }
   ],
   "source": [
    "hasattr(pipe, 'fit'), hasattr(pipe, 'predict')"
   ]
  },
  {
   "cell_type": "markdown",
   "id": "cc1b9a16",
   "metadata": {},
   "source": [
    "Let's try fitting, making predictions, and evaluating performance using this pipeline."
   ]
  },
  {
   "cell_type": "code",
   "execution_count": 21,
   "id": "0c056df5",
   "metadata": {},
   "outputs": [
    {
     "data": {
      "text/plain": [
       "Pipeline(steps=[('standardscaler', StandardScaler()),\n",
       "                ('linearregression', LinearRegression())])"
      ]
     },
     "execution_count": 21,
     "metadata": {},
     "output_type": "execute_result"
    }
   ],
   "source": [
    "pipe.fit(X_train, y_train)"
   ]
  },
  {
   "cell_type": "code",
   "execution_count": 22,
   "id": "38192911",
   "metadata": {},
   "outputs": [],
   "source": [
    "y_tr_pred= pipe.predict(X_train)\n",
    "y_te_pred= pipe.predict(X_test)"
   ]
  },
  {
   "cell_type": "code",
   "execution_count": 23,
   "id": "c80da551",
   "metadata": {},
   "outputs": [
    {
     "data": {
      "text/plain": [
       "(0.21113865967866263, 0.21027408674980674)"
      ]
     },
     "execution_count": 23,
     "metadata": {},
     "output_type": "execute_result"
    }
   ],
   "source": [
    "r2_score(y_train, y_tr_pred), r2_score(y_test, y_te_pred)"
   ]
  },
  {
   "cell_type": "markdown",
   "id": "2e0af42b",
   "metadata": {},
   "source": [
    "Given the number of features, it is possible that I am overfitting. As such, I will limit number of features that get used based on f_regression."
   ]
  },
  {
   "cell_type": "code",
   "execution_count": 24,
   "id": "c458aa32",
   "metadata": {},
   "outputs": [],
   "source": [
    "pipe = make_pipeline(\n",
    "    StandardScaler(),\n",
    "    SelectKBest(f_regression),\n",
    "    LinearRegression()\n",
    ")"
   ]
  },
  {
   "cell_type": "code",
   "execution_count": 25,
   "id": "9886248f",
   "metadata": {},
   "outputs": [
    {
     "data": {
      "text/plain": [
       "Pipeline(steps=[('standardscaler', StandardScaler()),\n",
       "                ('selectkbest',\n",
       "                 SelectKBest(score_func=<function f_regression at 0x7fc407b93700>)),\n",
       "                ('linearregression', LinearRegression())])"
      ]
     },
     "execution_count": 25,
     "metadata": {},
     "output_type": "execute_result"
    }
   ],
   "source": [
    "pipe.fit(X_train, y_train)"
   ]
  },
  {
   "cell_type": "code",
   "execution_count": 26,
   "id": "8de99d56",
   "metadata": {},
   "outputs": [],
   "source": [
    "y_tr_pred = pipe.predict(X_train)\n",
    "y_te_pred = pipe.predict(X_test)"
   ]
  },
  {
   "cell_type": "code",
   "execution_count": 27,
   "id": "1e41fd39",
   "metadata": {},
   "outputs": [
    {
     "data": {
      "text/plain": [
       "(0.1874317014221989, 0.18692349989156398)"
      ]
     },
     "execution_count": 27,
     "metadata": {},
     "output_type": "execute_result"
    }
   ],
   "source": [
    "r2_score(y_train, y_tr_pred), r2_score(y_test, y_te_pred)"
   ]
  },
  {
   "cell_type": "code",
   "execution_count": 28,
   "id": "0aef2356",
   "metadata": {},
   "outputs": [
    {
     "data": {
      "text/plain": [
       "(0.1354012030093336, 0.1349603370141544)"
      ]
     },
     "execution_count": 28,
     "metadata": {},
     "output_type": "execute_result"
    }
   ],
   "source": [
    "mean_absolute_error(y_train, y_tr_pred), mean_absolute_error(y_test, y_te_pred)"
   ]
  },
  {
   "cell_type": "markdown",
   "id": "a37562cb",
   "metadata": {},
   "source": [
    "We see that our model performance got much worse than when we didn't limit features. This was an expected result of limiting feature numbers. Let's try to include more."
   ]
  },
  {
   "cell_type": "code",
   "execution_count": 29,
   "id": "0057674e",
   "metadata": {},
   "outputs": [],
   "source": [
    "pipe10 = make_pipeline(\n",
    "    StandardScaler(),\n",
    "    SelectKBest(f_regression, k=10),\n",
    "    LinearRegression()\n",
    ")"
   ]
  },
  {
   "cell_type": "code",
   "execution_count": 30,
   "id": "c8df7f41",
   "metadata": {},
   "outputs": [],
   "source": [
    "y_tr_pred = pipe.predict(X_train)\n",
    "y_te_pred = pipe.predict(X_test)"
   ]
  },
  {
   "cell_type": "code",
   "execution_count": 31,
   "id": "59101fe2",
   "metadata": {},
   "outputs": [
    {
     "data": {
      "text/plain": [
       "(0.1874317014221989, 0.18692349989156398)"
      ]
     },
     "execution_count": 31,
     "metadata": {},
     "output_type": "execute_result"
    }
   ],
   "source": [
    "r2_score(y_train, y_tr_pred), r2_score(y_test, y_te_pred)"
   ]
  },
  {
   "cell_type": "code",
   "execution_count": 32,
   "id": "f90de14b",
   "metadata": {},
   "outputs": [
    {
     "data": {
      "text/plain": [
       "(0.1354012030093336, 0.1349603370141544)"
      ]
     },
     "execution_count": 32,
     "metadata": {},
     "output_type": "execute_result"
    }
   ],
   "source": [
    "mean_absolute_error(y_train, y_tr_pred), mean_absolute_error(y_test, y_te_pred)"
   ]
  },
  {
   "cell_type": "markdown",
   "id": "4c86fe36",
   "metadata": {},
   "source": [
    "It didn't make too much of a difference. Let's try to use cross-validation to assess model performance."
   ]
  },
  {
   "cell_type": "code",
   "execution_count": 33,
   "id": "e7b1a73a",
   "metadata": {},
   "outputs": [],
   "source": [
    "cv_results= cross_validate(pipe10, X_train, y_train, cv=5)"
   ]
  },
  {
   "cell_type": "code",
   "execution_count": 34,
   "id": "8c9958c0",
   "metadata": {},
   "outputs": [
    {
     "data": {
      "text/plain": [
       "array([0.18769585, 0.18979437, 0.18802968, 0.18372459, 0.18766839])"
      ]
     },
     "execution_count": 34,
     "metadata": {},
     "output_type": "execute_result"
    }
   ],
   "source": [
    "cv_scores= cv_results['test_score']\n",
    "cv_scores"
   ]
  },
  {
   "cell_type": "code",
   "execution_count": 35,
   "id": "e01859c5",
   "metadata": {},
   "outputs": [
    {
     "data": {
      "text/plain": [
       "(0.18738257791371474, 0.001989783250989196)"
      ]
     },
     "execution_count": 35,
     "metadata": {},
     "output_type": "execute_result"
    }
   ],
   "source": [
    "np.mean(cv_scores), np.std(cv_scores)"
   ]
  },
  {
   "cell_type": "markdown",
   "id": "8bb5a0ac",
   "metadata": {},
   "source": [
    "We can estimate the variability, or uncertainty of model performance."
   ]
  },
  {
   "cell_type": "code",
   "execution_count": 36,
   "id": "b0fbe91a",
   "metadata": {
    "scrolled": true
   },
   "outputs": [
    {
     "data": {
      "text/plain": [
       "array([0.18, 0.19])"
      ]
     },
     "execution_count": 36,
     "metadata": {},
     "output_type": "execute_result"
    }
   ],
   "source": [
    "np.round((np.mean(cv_scores) - 2 * np.std(cv_scores), np.mean(cv_scores) + 2 * np.std(cv_scores)), 2)"
   ]
  },
  {
   "cell_type": "markdown",
   "id": "9f502d61",
   "metadata": {},
   "source": [
    "## Regression Models"
   ]
  },
  {
   "cell_type": "markdown",
   "id": "eae6c7cd",
   "metadata": {},
   "source": [
    "### GridSearchCV - Linear Regression"
   ]
  },
  {
   "cell_type": "code",
   "execution_count": 37,
   "id": "ea3bdb80",
   "metadata": {},
   "outputs": [
    {
     "data": {
      "text/plain": [
       "dict_keys(['memory', 'steps', 'verbose', 'standardscaler', 'selectkbest', 'linearregression', 'standardscaler__copy', 'standardscaler__with_mean', 'standardscaler__with_std', 'selectkbest__k', 'selectkbest__score_func', 'linearregression__copy_X', 'linearregression__fit_intercept', 'linearregression__n_jobs', 'linearregression__normalize', 'linearregression__positive'])"
      ]
     },
     "execution_count": 37,
     "metadata": {},
     "output_type": "execute_result"
    }
   ],
   "source": [
    "pipe.get_params().keys()"
   ]
  },
  {
   "cell_type": "code",
   "execution_count": 38,
   "id": "68534b63",
   "metadata": {},
   "outputs": [],
   "source": [
    "k = [k+1 for k in range(len(X_train.columns))]\n",
    "grid_params = {'selectkbest__k': k}"
   ]
  },
  {
   "cell_type": "code",
   "execution_count": 39,
   "id": "7c3dc902",
   "metadata": {},
   "outputs": [],
   "source": [
    "lr_grid_cv = GridSearchCV(pipe, param_grid=grid_params, cv=5, n_jobs=-1)"
   ]
  },
  {
   "cell_type": "code",
   "execution_count": 40,
   "id": "8a8a0d48",
   "metadata": {},
   "outputs": [
    {
     "data": {
      "text/plain": [
       "GridSearchCV(cv=5,\n",
       "             estimator=Pipeline(steps=[('standardscaler', StandardScaler()),\n",
       "                                       ('selectkbest',\n",
       "                                        SelectKBest(score_func=<function f_regression at 0x7fc407b93700>)),\n",
       "                                       ('linearregression',\n",
       "                                        LinearRegression())]),\n",
       "             n_jobs=-1,\n",
       "             param_grid={'selectkbest__k': [1, 2, 3, 4, 5, 6, 7, 8, 9, 10, 11]})"
      ]
     },
     "execution_count": 40,
     "metadata": {},
     "output_type": "execute_result"
    }
   ],
   "source": [
    "lr_grid_cv.fit(X_train, y_train)"
   ]
  },
  {
   "cell_type": "code",
   "execution_count": 41,
   "id": "392d4275",
   "metadata": {},
   "outputs": [],
   "source": [
    "score_mean = lr_grid_cv.cv_results_['mean_test_score']\n",
    "score_std = lr_grid_cv.cv_results_['std_test_score']\n",
    "cv_k = [k for k in lr_grid_cv.cv_results_['param_selectkbest__k']]\n"
   ]
  },
  {
   "cell_type": "code",
   "execution_count": 42,
   "id": "e83fa511",
   "metadata": {},
   "outputs": [
    {
     "data": {
      "text/plain": [
       "{'selectkbest__k': 11}"
      ]
     },
     "execution_count": 42,
     "metadata": {},
     "output_type": "execute_result"
    }
   ],
   "source": [
    "lr_grid_cv.best_params_"
   ]
  },
  {
   "cell_type": "code",
   "execution_count": 43,
   "id": "8d467a2c",
   "metadata": {},
   "outputs": [
    {
     "data": {
      "text/plain": [
       "Text(0.5, 1.0, 'Pipeline mean CV score (error bars +/- 1sd)')"
      ]
     },
     "execution_count": 43,
     "metadata": {},
     "output_type": "execute_result"
    },
    {
     "data": {
      "image/png": "[encoded data removed]",
      "text/plain": [
       "<Figure size 1000x500 with 1 Axes>"
      ]
     },
     "metadata": {},
     "output_type": "display_data"
    }
   ],
   "source": [
    "best_k = lr_grid_cv.best_params_['selectkbest__k']\n",
    "plt.subplots(figsize=(10, 5))\n",
    "plt.errorbar(cv_k, score_mean, yerr=score_std)\n",
    "plt.axvline(x=best_k, c='r', ls='--', alpha=.5)\n",
    "plt.xlabel('k')\n",
    "plt.ylabel('CV score (r-squared)')\n",
    "plt.title('Pipeline mean CV score (error bars +/- 1sd)')"
   ]
  },
  {
   "cell_type": "code",
   "execution_count": 44,
   "id": "5def58cb",
   "metadata": {},
   "outputs": [],
   "source": [
    "selected = lr_grid_cv.best_estimator_.named_steps.selectkbest.get_support()"
   ]
  },
  {
   "cell_type": "code",
   "execution_count": 45,
   "id": "d8d4c967",
   "metadata": {
    "scrolled": true
   },
   "outputs": [
    {
     "data": {
      "text/plain": [
       "danceability        0.030250\n",
       "loudness            0.025942\n",
       "energy              0.005897\n",
       "tempo               0.002682\n",
       "duration_ms         0.000726\n",
       "time_signature      0.000333\n",
       "speechiness        -0.006080\n",
       "liveness           -0.007173\n",
       "instrumentalness   -0.025357\n",
       "valence            -0.036873\n",
       "acousticness       -0.043773\n",
       "dtype: float64"
      ]
     },
     "execution_count": 45,
     "metadata": {},
     "output_type": "execute_result"
    }
   ],
   "source": [
    "coefs= lr_grid_cv.best_estimator_.named_steps.linearregression.coef_\n",
    "features= X_train.columns[selected]\n",
    "pd.Series(coefs, index= features).sort_values(ascending= False)"
   ]
  },
  {
   "cell_type": "markdown",
   "id": "8bdf1ceb",
   "metadata": {},
   "source": [
    "We see that the most positive feature were instrumentalness. This differs from our EDA, which showed preference to non-instrumentalness. Let's try a different model."
   ]
  },
  {
   "cell_type": "markdown",
   "id": "7fd3c1ce",
   "metadata": {},
   "source": [
    "### Random Forest Model"
   ]
  },
  {
   "cell_type": "code",
   "execution_count": 46,
   "id": "f2329807",
   "metadata": {},
   "outputs": [],
   "source": [
    "RF= RandomForestRegressor(random_state= 42)"
   ]
  },
  {
   "cell_type": "code",
   "execution_count": 47,
   "id": "70599fa4",
   "metadata": {},
   "outputs": [],
   "source": [
    "rf_default_cv_results= cross_validate(RF, X_train, y_train, cv=5)"
   ]
  },
  {
   "cell_type": "code",
   "execution_count": 48,
   "id": "e6a99d8e",
   "metadata": {},
   "outputs": [
    {
     "data": {
      "text/plain": [
       "array([0.37365652, 0.37579395, 0.37136518, 0.37063597, 0.3656819 ])"
      ]
     },
     "execution_count": 48,
     "metadata": {},
     "output_type": "execute_result"
    }
   ],
   "source": [
    "rf_cv_scores= rf_default_cv_results['test_score']\n",
    "rf_cv_scores"
   ]
  },
  {
   "cell_type": "code",
   "execution_count": 49,
   "id": "5c07ea8b",
   "metadata": {
    "scrolled": false
   },
   "outputs": [
    {
     "data": {
      "text/plain": [
       "(0.3714267059458399, 0.0033963725624629997)"
      ]
     },
     "execution_count": 49,
     "metadata": {},
     "output_type": "execute_result"
    }
   ],
   "source": [
    "np.mean(rf_cv_scores), np.std(rf_cv_scores)"
   ]
  },
  {
   "cell_type": "markdown",
   "id": "b01477f0",
   "metadata": {},
   "source": [
    "Random Forest Regression model looks much more promising. Let's see what hyperparameter tuning can do for this model."
   ]
  },
  {
   "cell_type": "markdown",
   "id": "2e2f80e7",
   "metadata": {},
   "source": [
    "#### Random Forest Model- Bayesian Optimization"
   ]
  },
  {
   "cell_type": "code",
   "execution_count": 50,
   "id": "3f6090a3",
   "metadata": {},
   "outputs": [
    {
     "data": {
      "text/plain": [
       "dict_keys(['fit_time', 'score_time', 'test_score'])"
      ]
     },
     "execution_count": 50,
     "metadata": {},
     "output_type": "execute_result"
    }
   ],
   "source": [
    "cv_results.keys()"
   ]
  },
  {
   "cell_type": "code",
   "execution_count": 51,
   "id": "74c515e8",
   "metadata": {},
   "outputs": [
    {
     "data": {
      "text/plain": [
       "(411548, 11)"
      ]
     },
     "execution_count": 51,
     "metadata": {},
     "output_type": "execute_result"
    }
   ],
   "source": [
    "X_train.shape"
   ]
  },
  {
   "cell_type": "code",
   "execution_count": 52,
   "id": "1528da22",
   "metadata": {},
   "outputs": [
    {
     "data": {
      "text/plain": [
       "(411548,)"
      ]
     },
     "execution_count": 52,
     "metadata": {},
     "output_type": "execute_result"
    }
   ],
   "source": [
    "y_train.shape"
   ]
  },
  {
   "cell_type": "code",
   "execution_count": 53,
   "id": "16250d06",
   "metadata": {},
   "outputs": [],
   "source": [
    "def fit_model(n_estimators, min_samples_split, max_depth):\n",
    "    n_estimators=round(n_estimators)\n",
    "    max_depth= round(max_depth)\n",
    "    min_samples_split= round(min_samples_split)\n",
    "    \n",
    "    regressor= RandomForestRegressor(n_estimators= n_estimators, \n",
    "                                 max_depth=max_depth,\n",
    "                                 min_samples_split= min_samples_split, \n",
    "                                 random_state=random_state)\n",
    "\n",
    "    return np.mean(cross_validate(regressor, X_train, y_train, scoring='r2', cv=5, return_train_score=True)['test_score'])\n"
   ]
  },
  {
   "cell_type": "code",
   "execution_count": 54,
   "id": "d881cd9d",
   "metadata": {
    "scrolled": true
   },
   "outputs": [
    {
     "name": "stdout",
     "output_type": "stream",
     "text": [
      "|   iter    |  target   | max_depth | min_sa... | n_esti... |\n",
      "-------------------------------------------------------------\n",
      "| \u001b[0m1        \u001b[0m | \u001b[0m0.2218   \u001b[0m | \u001b[0m3.436    \u001b[0m | \u001b[0m28.6     \u001b[0m | \u001b[0m815.4    \u001b[0m |\n",
      "| \u001b[95m2        \u001b[0m | \u001b[95m0.2948   \u001b[0m | \u001b[95m6.948    \u001b[0m | \u001b[95m42.42    \u001b[0m | \u001b[95m1.153e+03\u001b[0m |\n",
      "| \u001b[0m3        \u001b[0m | \u001b[0m0.2218   \u001b[0m | \u001b[0m3.02     \u001b[0m | \u001b[0m41.74    \u001b[0m | \u001b[0m1.15e+03 \u001b[0m |\n",
      "| \u001b[0m4        \u001b[0m | \u001b[0m0.2417   \u001b[0m | \u001b[0m3.611    \u001b[0m | \u001b[0m85.24    \u001b[0m | \u001b[0m1.482e+03\u001b[0m |\n",
      "| \u001b[0m5        \u001b[0m | \u001b[0m0.2801   \u001b[0m | \u001b[0m6.495    \u001b[0m | \u001b[0m69.35    \u001b[0m | \u001b[0m1.372e+03\u001b[0m |\n",
      "| \u001b[0m6        \u001b[0m | \u001b[0m0.2627   \u001b[0m | \u001b[0m5.225    \u001b[0m | \u001b[0m38.71    \u001b[0m | \u001b[0m1.772e+03\u001b[0m |\n",
      "| \u001b[0m7        \u001b[0m | \u001b[0m0.2627   \u001b[0m | \u001b[0m5.199    \u001b[0m | \u001b[0m93.46    \u001b[0m | \u001b[0m1.911e+03\u001b[0m |\n",
      "| \u001b[0m8        \u001b[0m | \u001b[0m0.2417   \u001b[0m | \u001b[0m4.253    \u001b[0m | \u001b[0m78.26    \u001b[0m | \u001b[0m914.2    \u001b[0m |\n",
      "| \u001b[0m9        \u001b[0m | \u001b[0m0.28     \u001b[0m | \u001b[0m5.849    \u001b[0m | \u001b[0m73.35    \u001b[0m | \u001b[0m1.609e+03\u001b[0m |\n",
      "| \u001b[0m10       \u001b[0m | \u001b[0m0.2628   \u001b[0m | \u001b[0m4.698    \u001b[0m | \u001b[0m46.65    \u001b[0m | \u001b[0m1.442e+03\u001b[0m |\n",
      "| \u001b[0m11       \u001b[0m | \u001b[0m0.2218   \u001b[0m | \u001b[0m3.237    \u001b[0m | \u001b[0m34.64    \u001b[0m | \u001b[0m1.828e+03\u001b[0m |\n",
      "| \u001b[0m12       \u001b[0m | \u001b[0m0.28     \u001b[0m | \u001b[0m5.84     \u001b[0m | \u001b[0m65.25    \u001b[0m | \u001b[0m1.596e+03\u001b[0m |\n",
      "=============================================================\n"
     ]
    }
   ],
   "source": [
    "rf_BO = BayesianOptimization(fit_model,{\n",
    "        \"n_estimators\":(300, 2000), \n",
    "        \"min_samples_split\":(20,100), \n",
    "        \"max_depth\":(3,7) \n",
    "    })\n",
    "\n",
    "rf_BO.maximize(n_iter=10, init_points=2)"
   ]
  },
  {
   "cell_type": "markdown",
   "id": "bcfb807a",
   "metadata": {},
   "source": [
    "### Gradient Boosting Model\n",
    "The performance of Random Forest Model wasn't as good as I hoped. Let's try a gradient boosting model."
   ]
  },
  {
   "cell_type": "markdown",
   "id": "bf0afd46",
   "metadata": {},
   "source": [
    "#### Gradient Boosting Model- Bayesian Optimization"
   ]
  },
  {
   "cell_type": "code",
   "execution_count": 55,
   "id": "bf29e2fc",
   "metadata": {},
   "outputs": [],
   "source": [
    "def lgb_eval(num_leaves, max_depth, min_child_samples):\n",
    "    num_leaves= round(num_leaves)\n",
    "    max_depth= round(max_depth)\n",
    "    min_child_samples= round(min_child_samples)\n",
    "    \n",
    "    regressor= lgb.LGBMRegressor(num_leaves= num_leaves, \n",
    "                                 max_depth=max_depth,\n",
    "                                 min_child_samples= min_child_samples, \n",
    "                                 random_state=42)\n",
    "    \n",
    "    return np.mean(cross_validate(regressor, X_train, y_train, scoring='r2', cv=5, error_score= 'raise')['test_score'])"
   ]
  },
  {
   "cell_type": "code",
   "execution_count": 56,
   "id": "8bb2d572",
   "metadata": {
    "scrolled": true
   },
   "outputs": [
    {
     "name": "stdout",
     "output_type": "stream",
     "text": [
      "|   iter    |  target   | max_depth | min_ch... | num_le... |\n",
      "-------------------------------------------------------------\n",
      "| \u001b[0m1        \u001b[0m | \u001b[0m0.3372   \u001b[0m | \u001b[0m37.33    \u001b[0m | \u001b[0m4.926e+03\u001b[0m | \u001b[0m1.598e+03\u001b[0m |\n",
      "| \u001b[95m2        \u001b[0m | \u001b[95m0.3389   \u001b[0m | \u001b[95m35.94    \u001b[0m | \u001b[95m4.241e+03\u001b[0m | \u001b[95m1.864e+03\u001b[0m |\n",
      "| \u001b[95m3        \u001b[0m | \u001b[95m0.3612   \u001b[0m | \u001b[95m40.63    \u001b[0m | \u001b[95m450.9    \u001b[0m | \u001b[95m966.0    \u001b[0m |\n",
      "| \u001b[0m4        \u001b[0m | \u001b[0m0.3593   \u001b[0m | \u001b[0m51.06    \u001b[0m | \u001b[0m53.12    \u001b[0m | \u001b[0m3.872e+03\u001b[0m |\n",
      "| \u001b[0m5        \u001b[0m | \u001b[0m0.3262   \u001b[0m | \u001b[0m60.67    \u001b[0m | \u001b[0m9.992e+03\u001b[0m | \u001b[0m3.923e+03\u001b[0m |\n",
      "| \u001b[0m6        \u001b[0m | \u001b[0m0.3173   \u001b[0m | \u001b[0m5.418    \u001b[0m | \u001b[0m8.715e+03\u001b[0m | \u001b[0m1.457e+03\u001b[0m |\n",
      "| \u001b[0m7        \u001b[0m | \u001b[0m0.3465   \u001b[0m | \u001b[0m48.03    \u001b[0m | \u001b[0m96.43    \u001b[0m | \u001b[0m56.13    \u001b[0m |\n",
      "| \u001b[0m8        \u001b[0m | \u001b[0m0.3274   \u001b[0m | \u001b[0m34.69    \u001b[0m | \u001b[0m9.198e+03\u001b[0m | \u001b[0m3.375e+03\u001b[0m |\n",
      "| \u001b[0m9        \u001b[0m | \u001b[0m0.3607   \u001b[0m | \u001b[0m41.08    \u001b[0m | \u001b[0m466.2    \u001b[0m | \u001b[0m962.5    \u001b[0m |\n",
      "| \u001b[0m10       \u001b[0m | \u001b[0m0.3345   \u001b[0m | \u001b[0m23.08    \u001b[0m | \u001b[0m5.906e+03\u001b[0m | \u001b[0m318.1    \u001b[0m |\n",
      "| \u001b[95m11       \u001b[0m | \u001b[95m0.3659   \u001b[0m | \u001b[95m38.72    \u001b[0m | \u001b[95m52.02    \u001b[0m | \u001b[95m1.935e+03\u001b[0m |\n",
      "| \u001b[0m12       \u001b[0m | \u001b[0m0.3391   \u001b[0m | \u001b[0m7.064    \u001b[0m | \u001b[0m1.583e+03\u001b[0m | \u001b[0m3.748e+03\u001b[0m |\n",
      "=============================================================\n"
     ]
    }
   ],
   "source": [
    "lgbBO = BayesianOptimization(lgb_eval, {'num_leaves': (25, 4000),\n",
    "                                                'max_depth': (5, 63),\n",
    "                                                'min_child_samples': (50, 10000)\n",
    "                                                })\n",
    "\n",
    "\n",
    "lgbBO.maximize(n_iter=10, init_points=2)"
   ]
  },
  {
   "cell_type": "code",
   "execution_count": 57,
   "id": "a32800c2",
   "metadata": {},
   "outputs": [
    {
     "name": "stdout",
     "output_type": "stream",
     "text": [
      "{'target': 0.36591806044434155, 'params': {'max_depth': 38.721448876371795, 'min_child_samples': 52.01773912902063, 'num_leaves': 1934.7050062346498}}\n"
     ]
    }
   ],
   "source": [
    "print(lgbBO.max)"
   ]
  },
  {
   "cell_type": "markdown",
   "id": "3931f607",
   "metadata": {},
   "source": [
    "Our prediction actually worsened. For now, our best bet is Random Forest regression model. However, I'm still not too excited about our current model performance. Perhaps we should try our hands at classification models."
   ]
  }
 ],
 "metadata": {
  "kernelspec": {
   "display_name": "Python 3 (ipykernel)",
   "language": "python",
   "name": "python3"
  },
  "language_info": {
   "codemirror_mode": {
    "name": "ipython",
    "version": 3
   },
   "file_extension": ".py",
   "mimetype": "text/x-python",
   "name": "python",
   "nbconvert_exporter": "python",
   "pygments_lexer": "ipython3",
   "version": "3.9.12"
  }
 },
 "nbformat": 4,
 "nbformat_minor": 5
}
